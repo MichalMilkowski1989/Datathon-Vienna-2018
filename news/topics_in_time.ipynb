{
 "cells": [
  {
   "cell_type": "code",
   "execution_count": 1,
   "metadata": {},
   "outputs": [
    {
     "data": {
      "text/html": [
       "<script>requirejs.config({paths: { 'plotly': ['https://cdn.plot.ly/plotly-latest.min']},});if(!window.Plotly) {{require(['plotly'],function(plotly) {window.Plotly=plotly;});}}</script>"
      ],
      "text/vnd.plotly.v1+html": [
       "<script>requirejs.config({paths: { 'plotly': ['https://cdn.plot.ly/plotly-latest.min']},});if(!window.Plotly) {{require(['plotly'],function(plotly) {window.Plotly=plotly;});}}</script>"
      ]
     },
     "metadata": {},
     "output_type": "display_data"
    }
   ],
   "source": [
    "import plotly.offline as py\n",
    "from plotly.offline import init_notebook_mode, iplot\n",
    "import plotly.graph_objs as go\n",
    "init_notebook_mode(connected=True)\n",
    "\n",
    "data = [go.Bar(\n",
    "            x=['giraffes', 'orangutans', 'monkeys'],\n",
    "            y=[20, 14, 23]\n",
    "    )]\n",
    "\n",
    "#py.iplot(data, filename='basic-bar')"
   ]
  },
  {
   "cell_type": "code",
   "execution_count": 2,
   "metadata": {},
   "outputs": [
    {
     "name": "stderr",
     "output_type": "stream",
     "text": [
      "/user/ivo.brydl/.local/lib/python3.4/site-packages/psycopg2/__init__.py:144: UserWarning:\n",
      "\n",
      "The psycopg2 wheel package will be renamed from release 2.8; in order to keep installing from binary please use \"pip install psycopg2-binary\" instead. For details see: <http://initd.org/psycopg/docs/install.html#binary-install-from-pypi>.\n",
      "\n"
     ]
    }
   ],
   "source": [
    "import pandas as pd\n",
    "from sqlalchemy import create_engine\n",
    "engine = create_engine('postgresql://read_only_user@datathon.data-lab.io:5432/postgres')\n",
    "import numpy as np\n",
    "from sklearn import preprocessing"
   ]
  },
  {
   "cell_type": "code",
   "execution_count": null,
   "metadata": {},
   "outputs": [],
   "source": []
  },
  {
   "cell_type": "code",
   "execution_count": null,
   "metadata": {},
   "outputs": [],
   "source": []
  },
  {
   "cell_type": "code",
   "execution_count": 3,
   "metadata": {},
   "outputs": [
    {
     "data": {
      "application/javascript": [
       "IPython.OutputArea.prototype._should_scroll = function(lines) {\n",
       "    return false;\n",
       "}"
      ],
      "text/plain": [
       "<IPython.core.display.Javascript object>"
      ]
     },
     "metadata": {},
     "output_type": "display_data"
    }
   ],
   "source": [
    "%%javascript\n",
    "IPython.OutputArea.prototype._should_scroll = function(lines) {\n",
    "    return false;\n",
    "}"
   ]
  },
  {
   "cell_type": "code",
   "execution_count": null,
   "metadata": {},
   "outputs": [],
   "source": [
    "sql"
   ]
  },
  {
   "cell_type": "code",
   "execution_count": 27,
   "metadata": {
    "scrolled": true
   },
   "outputs": [
    {
     "data": {
      "application/vnd.plotly.v1+json": {
       "data": [
        {
         "connectgaps": true,
         "mode": "lines",
         "name": "fake",
         "type": "scatter",
         "x": [
          "2007-04-01",
          "2007-07-01",
          "2007-08-01",
          "2007-12-01",
          "2008-01-01",
          "2008-02-01",
          "2008-03-01",
          "2008-05-01",
          "2008-06-01",
          "2008-07-01",
          "2008-08-01",
          "2008-10-01",
          "2008-11-01",
          "2009-01-01",
          "2009-03-01",
          "2009-05-01",
          "2009-06-01",
          "2009-07-01",
          "2009-08-01",
          "2009-09-01",
          "2009-11-01",
          "2009-12-01",
          "2010-01-01",
          "2010-03-01",
          "2010-05-01",
          "2010-06-01",
          "2010-07-01",
          "2010-09-01",
          "2011-01-01",
          "2011-03-01",
          "2011-04-01",
          "2011-05-01",
          "2011-06-01",
          "2011-07-01",
          "2011-11-01",
          "2011-12-01",
          "2012-01-01",
          "2012-02-01",
          "2012-03-01",
          "2012-08-01",
          "2012-09-01",
          "2012-10-01",
          "2012-11-01",
          "2012-12-01",
          "2013-01-01",
          "2013-04-01",
          "2013-05-01",
          "2013-06-01",
          "2013-08-01",
          "2013-09-01",
          "2013-10-01",
          "2013-11-01",
          "2014-02-01",
          "2014-05-01",
          "2014-06-01",
          "2014-07-01",
          "2014-08-01",
          "2014-09-01",
          "2014-10-01",
          "2014-11-01",
          "2014-12-01",
          "2015-01-01",
          "2015-02-01",
          "2015-03-01",
          "2015-04-01",
          "2015-05-01",
          "2015-06-01",
          "2015-07-01",
          "2015-08-01",
          "2015-09-01",
          "2015-10-01",
          "2015-12-01",
          "2016-02-01",
          "2016-03-01",
          "2016-04-01",
          "2016-05-01",
          "2016-06-01",
          "2016-07-01",
          "2016-08-01",
          "2016-09-01",
          "2016-10-01",
          "2016-11-01",
          "2016-12-01",
          "2017-01-01",
          "2017-02-01",
          "2017-03-01",
          "2017-04-01",
          "2017-05-01",
          "2017-06-01",
          "2017-07-01",
          "2017-08-01",
          "2017-09-01",
          "2017-10-01",
          "2017-11-01",
          "2017-12-01",
          "2018-01-01",
          "2018-02-01",
          "2018-03-01",
          "2018-04-01"
         ],
         "y": [
          0,
          0.06896551724137931,
          0,
          0.034482758620689655,
          0.06896551724137931,
          0.034482758620689655,
          0.06896551724137931,
          0,
          0.034482758620689655,
          0.034482758620689655,
          0,
          0,
          0.034482758620689655,
          0.10344827586206896,
          0.034482758620689655,
          0,
          0.06896551724137931,
          0,
          0.10344827586206896,
          0,
          0,
          0,
          0.13793103448275862,
          0.034482758620689655,
          0.034482758620689655,
          0,
          0,
          0,
          0,
          0.034482758620689655,
          0,
          0,
          0.06896551724137931,
          0,
          0.034482758620689655,
          0.034482758620689655,
          0.034482758620689655,
          0,
          0.13793103448275862,
          0.06896551724137931,
          0.06896551724137931,
          0.06896551724137931,
          0.06896551724137931,
          0,
          0.034482758620689655,
          0,
          0,
          0,
          0,
          0.06896551724137931,
          0.06896551724137931,
          0,
          0,
          0,
          0,
          0.034482758620689655,
          0.034482758620689655,
          0,
          0.06896551724137931,
          0.06896551724137931,
          0,
          0.034482758620689655,
          0.10344827586206896,
          0.06896551724137931,
          0,
          0,
          0,
          0,
          0,
          0.034482758620689655,
          0.034482758620689655,
          0.10344827586206896,
          0.13793103448275862,
          0.10344827586206896,
          0.13793103448275862,
          0,
          0.034482758620689655,
          0.10344827586206896,
          0.06896551724137931,
          0.13793103448275862,
          0.10344827586206896,
          0.4827586206896552,
          0.6551724137931035,
          0.8620689655172414,
          0.7241379310344828,
          0.6206896551724138,
          1,
          0.5517241379310345,
          0.5862068965517242,
          0.5172413793103449,
          0.4827586206896552,
          0.4827586206896552,
          0.27586206896551724,
          0.3103448275862069,
          0.3448275862068965,
          0.7586206896551725,
          0.3793103448275862,
          0.27586206896551724,
          0.2068965517241379
         ]
        }
       ],
       "layout": {}
      },
      "text/html": [
       "<div id=\"27140e4d-e9a4-4dab-9ffc-d78dc1674da5\" style=\"height: 525px; width: 100%;\" class=\"plotly-graph-div\"></div><script type=\"text/javascript\">require([\"plotly\"], function(Plotly) { window.PLOTLYENV=window.PLOTLYENV || {};window.PLOTLYENV.BASE_URL=\"https://plot.ly\";Plotly.newPlot(\"27140e4d-e9a4-4dab-9ffc-d78dc1674da5\", [{\"x\": [\"2007-04-01\", \"2007-07-01\", \"2007-08-01\", \"2007-12-01\", \"2008-01-01\", \"2008-02-01\", \"2008-03-01\", \"2008-05-01\", \"2008-06-01\", \"2008-07-01\", \"2008-08-01\", \"2008-10-01\", \"2008-11-01\", \"2009-01-01\", \"2009-03-01\", \"2009-05-01\", \"2009-06-01\", \"2009-07-01\", \"2009-08-01\", \"2009-09-01\", \"2009-11-01\", \"2009-12-01\", \"2010-01-01\", \"2010-03-01\", \"2010-05-01\", \"2010-06-01\", \"2010-07-01\", \"2010-09-01\", \"2011-01-01\", \"2011-03-01\", \"2011-04-01\", \"2011-05-01\", \"2011-06-01\", \"2011-07-01\", \"2011-11-01\", \"2011-12-01\", \"2012-01-01\", \"2012-02-01\", \"2012-03-01\", \"2012-08-01\", \"2012-09-01\", \"2012-10-01\", \"2012-11-01\", \"2012-12-01\", \"2013-01-01\", \"2013-04-01\", \"2013-05-01\", \"2013-06-01\", \"2013-08-01\", \"2013-09-01\", \"2013-10-01\", \"2013-11-01\", \"2014-02-01\", \"2014-05-01\", \"2014-06-01\", \"2014-07-01\", \"2014-08-01\", \"2014-09-01\", \"2014-10-01\", \"2014-11-01\", \"2014-12-01\", \"2015-01-01\", \"2015-02-01\", \"2015-03-01\", \"2015-04-01\", \"2015-05-01\", \"2015-06-01\", \"2015-07-01\", \"2015-08-01\", \"2015-09-01\", \"2015-10-01\", \"2015-12-01\", \"2016-02-01\", \"2016-03-01\", \"2016-04-01\", \"2016-05-01\", \"2016-06-01\", \"2016-07-01\", \"2016-08-01\", \"2016-09-01\", \"2016-10-01\", \"2016-11-01\", \"2016-12-01\", \"2017-01-01\", \"2017-02-01\", \"2017-03-01\", \"2017-04-01\", \"2017-05-01\", \"2017-06-01\", \"2017-07-01\", \"2017-08-01\", \"2017-09-01\", \"2017-10-01\", \"2017-11-01\", \"2017-12-01\", \"2018-01-01\", \"2018-02-01\", \"2018-03-01\", \"2018-04-01\"], \"connectgaps\": true, \"y\": [0.0, 0.06896551724137931, 0.0, 0.034482758620689655, 0.06896551724137931, 0.034482758620689655, 0.06896551724137931, 0.0, 0.034482758620689655, 0.034482758620689655, 0.0, 0.0, 0.034482758620689655, 0.10344827586206896, 0.034482758620689655, 0.0, 0.06896551724137931, 0.0, 0.10344827586206896, 0.0, 0.0, 0.0, 0.13793103448275862, 0.034482758620689655, 0.034482758620689655, 0.0, 0.0, 0.0, 0.0, 0.034482758620689655, 0.0, 0.0, 0.06896551724137931, 0.0, 0.034482758620689655, 0.034482758620689655, 0.034482758620689655, 0.0, 0.13793103448275862, 0.06896551724137931, 0.06896551724137931, 0.06896551724137931, 0.06896551724137931, 0.0, 0.034482758620689655, 0.0, 0.0, 0.0, 0.0, 0.06896551724137931, 0.06896551724137931, 0.0, 0.0, 0.0, 0.0, 0.034482758620689655, 0.034482758620689655, 0.0, 0.06896551724137931, 0.06896551724137931, 0.0, 0.034482758620689655, 0.10344827586206896, 0.06896551724137931, 0.0, 0.0, 0.0, 0.0, 0.0, 0.034482758620689655, 0.034482758620689655, 0.10344827586206896, 0.13793103448275862, 0.10344827586206896, 0.13793103448275862, 0.0, 0.034482758620689655, 0.10344827586206896, 0.06896551724137931, 0.13793103448275862, 0.10344827586206896, 0.4827586206896552, 0.6551724137931035, 0.8620689655172414, 0.7241379310344828, 0.6206896551724138, 1.0, 0.5517241379310345, 0.5862068965517242, 0.5172413793103449, 0.4827586206896552, 0.4827586206896552, 0.27586206896551724, 0.3103448275862069, 0.3448275862068965, 0.7586206896551725, 0.3793103448275862, 0.27586206896551724, 0.2068965517241379], \"type\": \"scatter\", \"name\": \"fake\", \"mode\": \"lines\"}], {}, {\"linkText\": \"Export to plot.ly\", \"showLink\": true})});</script>"
      ],
      "text/vnd.plotly.v1+html": [
       "<div id=\"27140e4d-e9a4-4dab-9ffc-d78dc1674da5\" style=\"height: 525px; width: 100%;\" class=\"plotly-graph-div\"></div><script type=\"text/javascript\">require([\"plotly\"], function(Plotly) { window.PLOTLYENV=window.PLOTLYENV || {};window.PLOTLYENV.BASE_URL=\"https://plot.ly\";Plotly.newPlot(\"27140e4d-e9a4-4dab-9ffc-d78dc1674da5\", [{\"x\": [\"2007-04-01\", \"2007-07-01\", \"2007-08-01\", \"2007-12-01\", \"2008-01-01\", \"2008-02-01\", \"2008-03-01\", \"2008-05-01\", \"2008-06-01\", \"2008-07-01\", \"2008-08-01\", \"2008-10-01\", \"2008-11-01\", \"2009-01-01\", \"2009-03-01\", \"2009-05-01\", \"2009-06-01\", \"2009-07-01\", \"2009-08-01\", \"2009-09-01\", \"2009-11-01\", \"2009-12-01\", \"2010-01-01\", \"2010-03-01\", \"2010-05-01\", \"2010-06-01\", \"2010-07-01\", \"2010-09-01\", \"2011-01-01\", \"2011-03-01\", \"2011-04-01\", \"2011-05-01\", \"2011-06-01\", \"2011-07-01\", \"2011-11-01\", \"2011-12-01\", \"2012-01-01\", \"2012-02-01\", \"2012-03-01\", \"2012-08-01\", \"2012-09-01\", \"2012-10-01\", \"2012-11-01\", \"2012-12-01\", \"2013-01-01\", \"2013-04-01\", \"2013-05-01\", \"2013-06-01\", \"2013-08-01\", \"2013-09-01\", \"2013-10-01\", \"2013-11-01\", \"2014-02-01\", \"2014-05-01\", \"2014-06-01\", \"2014-07-01\", \"2014-08-01\", \"2014-09-01\", \"2014-10-01\", \"2014-11-01\", \"2014-12-01\", \"2015-01-01\", \"2015-02-01\", \"2015-03-01\", \"2015-04-01\", \"2015-05-01\", \"2015-06-01\", \"2015-07-01\", \"2015-08-01\", \"2015-09-01\", \"2015-10-01\", \"2015-12-01\", \"2016-02-01\", \"2016-03-01\", \"2016-04-01\", \"2016-05-01\", \"2016-06-01\", \"2016-07-01\", \"2016-08-01\", \"2016-09-01\", \"2016-10-01\", \"2016-11-01\", \"2016-12-01\", \"2017-01-01\", \"2017-02-01\", \"2017-03-01\", \"2017-04-01\", \"2017-05-01\", \"2017-06-01\", \"2017-07-01\", \"2017-08-01\", \"2017-09-01\", \"2017-10-01\", \"2017-11-01\", \"2017-12-01\", \"2018-01-01\", \"2018-02-01\", \"2018-03-01\", \"2018-04-01\"], \"connectgaps\": true, \"y\": [0.0, 0.06896551724137931, 0.0, 0.034482758620689655, 0.06896551724137931, 0.034482758620689655, 0.06896551724137931, 0.0, 0.034482758620689655, 0.034482758620689655, 0.0, 0.0, 0.034482758620689655, 0.10344827586206896, 0.034482758620689655, 0.0, 0.06896551724137931, 0.0, 0.10344827586206896, 0.0, 0.0, 0.0, 0.13793103448275862, 0.034482758620689655, 0.034482758620689655, 0.0, 0.0, 0.0, 0.0, 0.034482758620689655, 0.0, 0.0, 0.06896551724137931, 0.0, 0.034482758620689655, 0.034482758620689655, 0.034482758620689655, 0.0, 0.13793103448275862, 0.06896551724137931, 0.06896551724137931, 0.06896551724137931, 0.06896551724137931, 0.0, 0.034482758620689655, 0.0, 0.0, 0.0, 0.0, 0.06896551724137931, 0.06896551724137931, 0.0, 0.0, 0.0, 0.0, 0.034482758620689655, 0.034482758620689655, 0.0, 0.06896551724137931, 0.06896551724137931, 0.0, 0.034482758620689655, 0.10344827586206896, 0.06896551724137931, 0.0, 0.0, 0.0, 0.0, 0.0, 0.034482758620689655, 0.034482758620689655, 0.10344827586206896, 0.13793103448275862, 0.10344827586206896, 0.13793103448275862, 0.0, 0.034482758620689655, 0.10344827586206896, 0.06896551724137931, 0.13793103448275862, 0.10344827586206896, 0.4827586206896552, 0.6551724137931035, 0.8620689655172414, 0.7241379310344828, 0.6206896551724138, 1.0, 0.5517241379310345, 0.5862068965517242, 0.5172413793103449, 0.4827586206896552, 0.4827586206896552, 0.27586206896551724, 0.3103448275862069, 0.3448275862068965, 0.7586206896551725, 0.3793103448275862, 0.27586206896551724, 0.2068965517241379], \"type\": \"scatter\", \"name\": \"fake\", \"mode\": \"lines\"}], {}, {\"linkText\": \"Export to plot.ly\", \"showLink\": true})});</script>"
      ]
     },
     "metadata": {},
     "output_type": "display_data"
    }
   ],
   "source": [
    "import warnings\n",
    "warnings.filterwarnings('ignore')\n",
    "\n",
    "#words = ['flüchtlinge', 'facebook']\n",
    "words = ['flüchtlinge', 'gdpr','facebook', 'altern','alternative','fakten','bürger','bürgerliche','werte','zivilgesellschaft','gesellschaft','gemeinschaft','kritisches','denken ','zivilgesellschaftliche','organisation','kultur','demokratie','spenden','bildung','wahlen','engagement','europäische','union','fake', 'news','gefälschte','nachrichten','feminismus','ausländer','pressefreiheit','geschlechterungleichheit','ermächtigung','menschenrechte','identität','antiliberal','medien','nichtregierungsorganisation','non-profit-organisation ','partizipation','teilhabe','beiteiligung','populismus','armut','öffentlichkeit','soziale','innovation ','soziale','interaktion','soziale','bewegungen','willensbildung','integration','integration','vielfalt','vernetzung','ehrenamtliche','freiwillige','ehrenamtliches','freiwilliges','engagement','digitalisierung','datenschutz','minderheit','toleranz','flüchtlinge','migration','kooperation','zusammenarbeit','nachhaltigkeit','gesundheit','öffentliches','gesundheitswesen','wohlbefinden','geschlechtergleichheit','energie','innovation','umwelt ','umweltschutz','frieden','gerechtigkeit','hunger','unterernährung','diskriminierung','soziale','benachteiligung','hassverbrechen ','globalisierung','ethik','einkommen','respekt','solidarität','nachhaltige','entwicklung','fairer','handel','kinder','jugend','zukunft','gesellschaft ','bevölkerung','einwohner','öffentliches','engagement','bürgerbeteiligung','deliberative','demokratie','ziviler','dialog','staatsbürgerschaft','urbanisierung','flucht','asyl','asylwerber','humanitäre','hilfe','krisengebiet']\n",
    "#words = ['altern','alternative','fakten','bürger','bürgerliche','werte','zivilgesellschaft']\n",
    "#words = ['feminismus', 'flüchtlinge', 'facebook']\n",
    "#words = ['werte']\n",
    "\n",
    "#words = ['flüchtling']\n",
    "words = ['fake']\n",
    "\n",
    "#words=['integration | zuwanderung | gesellschaftliche | globalisierung | normen | ethik | armut | sozialer | krise | ökonomische']\n",
    "\n",
    "\n",
    "\n",
    "words = list(set(words))\n",
    "l = len(words)\n",
    "i=0\n",
    "traces = []\n",
    "for word in words:\n",
    "    sql = \"select * from public.standard where document @@ to_tsquery(\\'\" + word + \"\\');\"\n",
    "    #sql = \"select * from public.standard where document @@ to_tsquery(\\'integration | zuwanderung | gesellschaftliche | globalisierung | normen | ethik | armut | sozialer | krise | ökonomische \\');\"\n",
    "    #print(sql)\n",
    "    tmp = pd.read_sql_query(sql,con=engine)\n",
    "    \n",
    "    tmp['ym'] = pd.to_datetime(tmp['pubdate']).map(lambda dt: dt.replace(day=1))\n",
    "    tmp[\"cont\"] = tmp.document.str.contains(word)\n",
    "    tmp = tmp[tmp[\"cont\"]==True]\n",
    "    tmpg = tmp.groupby(tmp['ym']).count()\n",
    "    tmpg[\"cnt\"] = tmpg[\"id\"]\n",
    "    tmpg = tmpg.drop([\"id\", \"title\", \"description\", \"pubdate\", \"link\", \"document\", \"cont\"], axis=1)\n",
    "    if (tmpg.size>0 and tmpg.cnt.sum()>50 ):\n",
    "        min_max_scaler = preprocessing.MinMaxScaler()\n",
    "        tmpg[\"cnt_norm\"] = min_max_scaler.fit_transform(tmpg[\"cnt\"].reshape(-1,1))\n",
    "\n",
    "        breaky = '2017-08-01'\n",
    "        hist = tmpg.ix[:breaky].cnt_norm.mean()\n",
    "        recent = tmpg.ix[breaky:].cnt_norm.mean()\n",
    "        if (recent/hist>1.5 or 1==1) :\n",
    "            traces.append(go.Scatter(\n",
    "                x=tmpg.index,\n",
    "                y=tmpg.cnt_norm,\n",
    "                name=word,\n",
    "                mode='lines',\n",
    "                connectgaps=True,\n",
    "            ))\n",
    "    i+=1\n",
    "\n",
    "\n",
    "fig = go.Figure(data=traces)\n",
    "py.iplot(fig, filename='words-in-time')"
   ]
  }
 ],
 "metadata": {
  "kernelspec": {
   "display_name": "Python 3",
   "language": "python",
   "name": "python3"
  },
  "language_info": {
   "codemirror_mode": {
    "name": "ipython",
    "version": 3
   },
   "file_extension": ".py",
   "mimetype": "text/x-python",
   "name": "python",
   "nbconvert_exporter": "python",
   "pygments_lexer": "ipython3",
   "version": "3.4.5"
  }
 },
 "nbformat": 4,
 "nbformat_minor": 2
}
